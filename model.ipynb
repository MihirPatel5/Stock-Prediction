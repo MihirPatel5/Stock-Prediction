{
 "cells": [
  {
   "cell_type": "markdown",
   "metadata": {},
   "source": [
    "Demo model creation for testing purpose........^/^\n",
    "                                               ---"
   ]
  },
  {
   "cell_type": "code",
   "execution_count": 6,
   "metadata": {},
   "outputs": [],
   "source": [
    "import pandas as pd\n",
    "import yfinance as yf\n",
    "import ta\n",
    "import joblib\n",
    "\n",
    "def fetch_stock_data(symbol=\"^NSEI\", start=\"2015-01-01\", end=\"2024-01-01\"):\n",
    "    df = yf.download(symbol, start=start, end=end, interval=\"1d\")\n",
    "    df = df[['Open', 'High', 'Low', 'Close', 'Volume']]\n",
    "    df = add_indicators(df)\n",
    "    df.head()\n",
    "    print('df: ', df)\n",
    "    return df\n",
    "\n",
    "def add_indicators(df):\n",
    "    df['SMA_20'] = ta.trend.sma_indicator(df['Close'], window=20)\n",
    "    df['SMA_50'] = ta.trend.sma_indicator(df['Close'], window=50)\n",
    "    df['EMA_20'] = ta.trend.ema_indicator(df['Close'], window=20)\n",
    "    df['RSI_14'] = ta.momentum.rsi(df['Close'], window=14)\n",
    "    df['MACD'] = ta.trend.macd(df['Close'])\n",
    "    df['MACD_Signal'] = ta.trend.macd_signal(df['Close'])\n",
    "    df.dropna(inplace=True)\n",
    "    df.head()\n",
    "    return df\n"
   ]
  },
  {
   "cell_type": "code",
   "execution_count": null,
   "metadata": {},
   "outputs": [],
   "source": []
  }
 ],
 "metadata": {
  "kernelspec": {
   "display_name": "env",
   "language": "python",
   "name": "python3"
  },
  "language_info": {
   "codemirror_mode": {
    "name": "ipython",
    "version": 3
   },
   "file_extension": ".py",
   "mimetype": "text/x-python",
   "name": "python",
   "nbconvert_exporter": "python",
   "pygments_lexer": "ipython3",
   "version": "3.11.11"
  }
 },
 "nbformat": 4,
 "nbformat_minor": 2
}
